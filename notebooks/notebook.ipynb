{
 "cells": [
  {
   "cell_type": "code",
   "execution_count": 127,
   "id": "bfa3b64a",
   "metadata": {},
   "outputs": [],
   "source": [
    "import pandas as pd\n",
    "import numpy as np \n",
    "import matplotlib.pyplot as plt\n",
    "import seaborn as sns"
   ]
  },
  {
   "cell_type": "code",
   "execution_count": 128,
   "id": "1d42c975",
   "metadata": {},
   "outputs": [
    {
     "data": {
      "text/plain": [
       "(4920, 133)"
      ]
     },
     "execution_count": 128,
     "metadata": {},
     "output_type": "execute_result"
    }
   ],
   "source": [
    "train = pd.read_csv(\"../dataset/Training.csv\")\n",
    "train.shape"
   ]
  },
  {
   "cell_type": "markdown",
   "id": "e16d89cd",
   "metadata": {},
   "source": [
    "## Train Test split"
   ]
  },
  {
   "cell_type": "code",
   "execution_count": 129,
   "id": "96b36258",
   "metadata": {},
   "outputs": [],
   "source": [
    "from sklearn.model_selection import train_test_split\n",
    "from sklearn.preprocessing import LabelEncoder"
   ]
  },
  {
   "cell_type": "code",
   "execution_count": 130,
   "id": "6ce26077",
   "metadata": {},
   "outputs": [
    {
     "data": {
      "text/plain": [
       "((4920, 132), (4920,))"
      ]
     },
     "execution_count": 130,
     "metadata": {},
     "output_type": "execute_result"
    }
   ],
   "source": [
    "X = train.iloc[: , :-1]\n",
    "y= train.iloc[:, -1]\n",
    "X.shape,y.shape"
   ]
  },
  {
   "cell_type": "code",
   "execution_count": 131,
   "id": "900db958",
   "metadata": {},
   "outputs": [
    {
     "data": {
      "text/plain": [
       "Index(['itching', 'skin_rash', 'nodal_skin_eruptions', 'continuous_sneezing',\n",
       "       'shivering', 'chills', 'joint_pain', 'stomach_pain', 'acidity',\n",
       "       'ulcers_on_tongue',\n",
       "       ...\n",
       "       'pus_filled_pimples', 'blackheads', 'scurring', 'skin_peeling',\n",
       "       'silver_like_dusting', 'small_dents_in_nails', 'inflammatory_nails',\n",
       "       'blister', 'red_sore_around_nose', 'yellow_crust_ooze'],\n",
       "      dtype='object', length=132)"
      ]
     },
     "execution_count": 131,
     "metadata": {},
     "output_type": "execute_result"
    }
   ],
   "source": [
    "X.columns"
   ]
  },
  {
   "cell_type": "code",
   "execution_count": null,
   "id": "51acf8fe",
   "metadata": {},
   "outputs": [],
   "source": []
  },
  {
   "cell_type": "markdown",
   "id": "e00b9f53",
   "metadata": {},
   "source": [
    "<!-- ### using label encoder for y or target variable -->"
   ]
  },
  {
   "cell_type": "code",
   "execution_count": 132,
   "id": "3630f81f",
   "metadata": {},
   "outputs": [
    {
     "data": {
      "text/plain": [
       "array([15, 15, 15, ..., 38, 35, 27], shape=(4920,))"
      ]
     },
     "execution_count": 132,
     "metadata": {},
     "output_type": "execute_result"
    }
   ],
   "source": [
    "le = LabelEncoder()\n",
    "le.fit(y)\n",
    "Y=le.transform(y)\n",
    "Y\n",
    "\n"
   ]
  },
  {
   "cell_type": "code",
   "execution_count": 133,
   "id": "791c8d6b",
   "metadata": {},
   "outputs": [],
   "source": [
    "X_train,X_test,y_train,y_test = train_test_split(X,Y,test_size=0.3, random_state=20)"
   ]
  },
  {
   "cell_type": "markdown",
   "id": "93d88f44",
   "metadata": {},
   "source": [
    "## Training top models"
   ]
  },
  {
   "cell_type": "code",
   "execution_count": 134,
   "id": "51c692c8",
   "metadata": {},
   "outputs": [],
   "source": [
    "from sklearn.datasets import make_classification\n",
    "from sklearn.svm import SVC\n",
    "from sklearn.ensemble import RandomForestClassifier, GradientBoostingClassifier\n",
    "from sklearn.neighbors import KNeighborsClassifier\n",
    "from sklearn.naive_bayes import MultinomialNB \n",
    "\n",
    "from sklearn.metrics import accuracy_score, confusion_matrix\n"
   ]
  },
  {
   "cell_type": "code",
   "execution_count": 135,
   "id": "9d103944",
   "metadata": {},
   "outputs": [],
   "source": [
    "# creating a dictionary to store models\n",
    "models={\n",
    "    \"SVC\":SVC(kernel='linear'),\n",
    "    # train an svm that tries to sepearte data using straight line or flat hyperplane \n",
    "    # since our dataset contains symptoms(for each column) as 0 or 1 not continous values \n",
    "    # in such cases of sparse or high dimensional the data points of differnet classes \n",
    "    # are often seperable by straight boundary so linear hyperplane works perfect\n",
    "\n",
    "    \"RandomForest\":RandomForestClassifier(n_estimators=100, random_state=42),\n",
    "    # 100 trees is a sweet spot between acuracy and stability \n",
    "    # it gives resonable trainnig time and memory usage \n",
    "    # after 100 there is very tiny imporvemnet \n",
    "\n",
    "    \"GradientBoosting\":GradientBoostingClassifier(n_estimators=100,random_state=42),\n",
    "\n",
    "    \"KNN\":KNeighborsClassifier(n_neighbors=5),\n",
    "    #n_neighbors=5 default value of scikit learn \n",
    "    # balances bias and variance well in most cases \n",
    "    # avoids being too sensitive to noise (k=1)\n",
    "    # keeps computaion resonable for large dataset \n",
    "    # all in all a good starting point for knn \n",
    "\n",
    "    \"MultinomialNB\":MultinomialNB()\n",
    "\n",
    "}\n",
    "\n"
   ]
  },
  {
   "cell_type": "code",
   "execution_count": 136,
   "id": "603a5645",
   "metadata": {},
   "outputs": [
    {
     "name": "stdout",
     "output_type": "stream",
     "text": [
      "SVC accuracy:1.0\n",
      "Confusion Matrix \n",
      "[[40, 0, 0,..., 0, 0, 0],\n",
      " [ 0,43, 0,..., 0, 0, 0],\n",
      " [ 0, 0,28,..., 0, 0, 0],\n",
      " ...,\n",
      " [ 0, 0, 0,...,34, 0, 0],\n",
      " [ 0, 0, 0,..., 0,41, 0],\n",
      " [ 0, 0, 0,..., 0, 0,31]]\n",
      "RandomForest accuracy:1.0\n",
      "Confusion Matrix \n",
      "[[40, 0, 0,..., 0, 0, 0],\n",
      " [ 0,43, 0,..., 0, 0, 0],\n",
      " [ 0, 0,28,..., 0, 0, 0],\n",
      " ...,\n",
      " [ 0, 0, 0,...,34, 0, 0],\n",
      " [ 0, 0, 0,..., 0,41, 0],\n",
      " [ 0, 0, 0,..., 0, 0,31]]\n",
      "GradientBoosting accuracy:1.0\n",
      "Confusion Matrix \n",
      "[[40, 0, 0,..., 0, 0, 0],\n",
      " [ 0,43, 0,..., 0, 0, 0],\n",
      " [ 0, 0,28,..., 0, 0, 0],\n",
      " ...,\n",
      " [ 0, 0, 0,...,34, 0, 0],\n",
      " [ 0, 0, 0,..., 0,41, 0],\n",
      " [ 0, 0, 0,..., 0, 0,31]]\n",
      "KNN accuracy:1.0\n",
      "Confusion Matrix \n",
      "[[40, 0, 0,..., 0, 0, 0],\n",
      " [ 0,43, 0,..., 0, 0, 0],\n",
      " [ 0, 0,28,..., 0, 0, 0],\n",
      " ...,\n",
      " [ 0, 0, 0,...,34, 0, 0],\n",
      " [ 0, 0, 0,..., 0,41, 0],\n",
      " [ 0, 0, 0,..., 0, 0,31]]\n",
      "MultinomialNB accuracy:1.0\n",
      "Confusion Matrix \n",
      "[[40, 0, 0,..., 0, 0, 0],\n",
      " [ 0,43, 0,..., 0, 0, 0],\n",
      " [ 0, 0,28,..., 0, 0, 0],\n",
      " ...,\n",
      " [ 0, 0, 0,...,34, 0, 0],\n",
      " [ 0, 0, 0,..., 0,41, 0],\n",
      " [ 0, 0, 0,..., 0, 0,31]]\n"
     ]
    }
   ],
   "source": [
    "for model_name , model in models.items():\n",
    "      \n",
    "    #train model\n",
    "    model.fit(X_train,y_train)\n",
    "    #test model\n",
    "    predictions=model.predict(X_test)\n",
    "    #calculate accuracy \n",
    "    accuracy=accuracy_score(y_test,predictions)\n",
    "    #calculate confusion matrix\n",
    "    cm=confusion_matrix(y_test,predictions)\n",
    "\n",
    "    print(f\"{model_name} accuracy:{accuracy}\")\n",
    "    print('Confusion Matrix ')\n",
    "    print(np.array2string(cm,separator=','))\n",
    "    "
   ]
  },
  {
   "cell_type": "markdown",
   "id": "236f3135",
   "metadata": {},
   "source": [
    "## Single Predictions\n"
   ]
  },
  {
   "cell_type": "code",
   "execution_count": 137,
   "id": "ae525b30",
   "metadata": {},
   "outputs": [
    {
     "data": {
      "text/plain": [
       "1.0"
      ]
     },
     "execution_count": 137,
     "metadata": {},
     "output_type": "execute_result"
    }
   ],
   "source": [
    "svc=SVC(kernel='linear')\n",
    "svc.fit(X_train,y_train)\n",
    "y_pred=svc.predict(X_test)\n",
    "accuracy_score(y_test,y_pred)"
   ]
  },
  {
   "cell_type": "code",
   "execution_count": 138,
   "id": "cd3d7cdf",
   "metadata": {},
   "outputs": [],
   "source": [
    "# saving model\n",
    "import pickle \n",
    "# pickle.dump(svc,open(\"../models/svc.pkl\",\"wb\"))"
   ]
  },
  {
   "cell_type": "code",
   "execution_count": 139,
   "id": "5de5e0c2",
   "metadata": {},
   "outputs": [],
   "source": [
    "#load model\n",
    "svc=pickle.load(open('../models/svc.pkl','rb'))"
   ]
  },
  {
   "cell_type": "code",
   "execution_count": 140,
   "id": "924f35cf",
   "metadata": {},
   "outputs": [
    {
     "name": "stdout",
     "output_type": "stream",
     "text": [
      "Predicted Label: [40]\n",
      "Actual Level: 40\n"
     ]
    },
    {
     "name": "stderr",
     "output_type": "stream",
     "text": [
      "c:\\Users\\Vivobook\\OneDrive\\Desktop\\Medical Recommendation Systmes\\.venv\\Lib\\site-packages\\sklearn\\utils\\validation.py:2749: UserWarning: X does not have valid feature names, but SVC was fitted with feature names\n",
      "  warnings.warn(\n"
     ]
    }
   ],
   "source": [
    "#X_test.iloc[0].values\n",
    "# reshaping since this was 1d array but our model assumes input to be 2d \n",
    "#test1 \n",
    "svc_x=X_test.iloc[0].values.reshape(1,-1)\n",
    "print(\"Predicted Label:\",svc.predict(svc_x))\n",
    "print(\"Actual Level:\",y_test[0])\n",
    "\n"
   ]
  },
  {
   "cell_type": "code",
   "execution_count": 141,
   "id": "f40c1c8b",
   "metadata": {},
   "outputs": [
    {
     "name": "stdout",
     "output_type": "stream",
     "text": [
      "Predicted Label: [20]\n",
      "Actual Level: 20\n"
     ]
    },
    {
     "name": "stderr",
     "output_type": "stream",
     "text": [
      "c:\\Users\\Vivobook\\OneDrive\\Desktop\\Medical Recommendation Systmes\\.venv\\Lib\\site-packages\\sklearn\\utils\\validation.py:2749: UserWarning: X does not have valid feature names, but SVC was fitted with feature names\n",
      "  warnings.warn(\n"
     ]
    }
   ],
   "source": [
    "svc_x=X_test.iloc[10].values.reshape(1,-1)\n",
    "print(\"Predicted Label:\",svc.predict(svc_x))\n",
    "print(\"Actual Level:\",y_test[10])"
   ]
  },
  {
   "cell_type": "markdown",
   "id": "878c8a5c",
   "metadata": {},
   "source": [
    "Recommendation System and Prediction"
   ]
  },
  {
   "cell_type": "markdown",
   "id": "0316e2be",
   "metadata": {},
   "source": [
    "Load databases and use logic for recommnedations"
   ]
  },
  {
   "cell_type": "code",
   "execution_count": 142,
   "id": "3fab546b",
   "metadata": {},
   "outputs": [],
   "source": [
    "sym_disease=pd.read_csv('../dataset/symtoms_df.csv')\n",
    "precautions=pd.read_csv('../dataset/precautions_df.csv')\n",
    "workout=pd.read_csv('../dataset/workout_df.csv')\n",
    "description=pd.read_csv('../dataset/description.csv')\n",
    "medication=pd.read_csv('../dataset/medications.csv')\n",
    "diets=pd.read_csv('../dataset/diets.csv')\n",
    "\n"
   ]
  },
  {
   "cell_type": "code",
   "execution_count": 143,
   "id": "abd2a2f4",
   "metadata": {},
   "outputs": [
    {
     "data": {
      "text/plain": [
       "{np.int64(0): '(vertigo) Paroymsal  Positional Vertigo',\n",
       " np.int64(1): 'AIDS',\n",
       " np.int64(2): 'Acne',\n",
       " np.int64(3): 'Alcoholic hepatitis',\n",
       " np.int64(4): 'Allergy',\n",
       " np.int64(5): 'Arthritis',\n",
       " np.int64(6): 'Bronchial Asthma',\n",
       " np.int64(7): 'Cervical spondylosis',\n",
       " np.int64(8): 'Chicken pox',\n",
       " np.int64(9): 'Chronic cholestasis',\n",
       " np.int64(10): 'Common Cold',\n",
       " np.int64(11): 'Dengue',\n",
       " np.int64(12): 'Diabetes ',\n",
       " np.int64(13): 'Dimorphic hemmorhoids(piles)',\n",
       " np.int64(14): 'Drug Reaction',\n",
       " np.int64(15): 'Fungal infection',\n",
       " np.int64(16): 'GERD',\n",
       " np.int64(17): 'Gastroenteritis',\n",
       " np.int64(18): 'Heart attack',\n",
       " np.int64(19): 'Hepatitis B',\n",
       " np.int64(20): 'Hepatitis C',\n",
       " np.int64(21): 'Hepatitis D',\n",
       " np.int64(22): 'Hepatitis E',\n",
       " np.int64(23): 'Hypertension ',\n",
       " np.int64(24): 'Hyperthyroidism',\n",
       " np.int64(25): 'Hypoglycemia',\n",
       " np.int64(26): 'Hypothyroidism',\n",
       " np.int64(27): 'Impetigo',\n",
       " np.int64(28): 'Jaundice',\n",
       " np.int64(29): 'Malaria',\n",
       " np.int64(30): 'Migraine',\n",
       " np.int64(31): 'Osteoarthristis',\n",
       " np.int64(32): 'Paralysis (brain hemorrhage)',\n",
       " np.int64(33): 'Peptic ulcer diseae',\n",
       " np.int64(34): 'Pneumonia',\n",
       " np.int64(35): 'Psoriasis',\n",
       " np.int64(36): 'Tuberculosis',\n",
       " np.int64(37): 'Typhoid',\n",
       " np.int64(38): 'Urinary tract infection',\n",
       " np.int64(39): 'Varicose veins',\n",
       " np.int64(40): 'hepatitis A'}"
      ]
     },
     "execution_count": 143,
     "metadata": {},
     "output_type": "execute_result"
    }
   ],
   "source": [
    "#mapping function to get the labels for differnet diseases.\n",
    "def get_label_mapping(y):\n",
    "    \"\"\"\n",
    "    Returns a dictionary mapping encoded label numbers\n",
    "    to their corresponding disease names.\n",
    "    Example: {0: 'Fungal infection', 1: 'Allergy', ...}\n",
    "    \"\"\"\n",
    "    mapping = dict(zip(le.transform(le.classes_), le.classes_))\n",
    "    return mapping\n",
    "\n",
    "disease_list=get_label_mapping(y)\n",
    "disease_list"
   ]
  },
  {
   "cell_type": "code",
   "execution_count": 144,
   "id": "8ac48717",
   "metadata": {},
   "outputs": [
    {
     "data": {
      "text/plain": [
       "{'itching': 0,\n",
       " 'skin_rash': 1,\n",
       " 'nodal_skin_eruptions': 2,\n",
       " 'continuous_sneezing': 3,\n",
       " 'shivering': 4,\n",
       " 'chills': 5,\n",
       " 'joint_pain': 6,\n",
       " 'stomach_pain': 7,\n",
       " 'acidity': 8,\n",
       " 'ulcers_on_tongue': 9,\n",
       " 'muscle_wasting': 10,\n",
       " 'vomiting': 11,\n",
       " 'burning_micturition': 12,\n",
       " 'spotting_ urination': 13,\n",
       " 'fatigue': 14,\n",
       " 'weight_gain': 15,\n",
       " 'anxiety': 16,\n",
       " 'cold_hands_and_feets': 17,\n",
       " 'mood_swings': 18,\n",
       " 'weight_loss': 19,\n",
       " 'restlessness': 20,\n",
       " 'lethargy': 21,\n",
       " 'patches_in_throat': 22,\n",
       " 'irregular_sugar_level': 23,\n",
       " 'cough': 24,\n",
       " 'high_fever': 25,\n",
       " 'sunken_eyes': 26,\n",
       " 'breathlessness': 27,\n",
       " 'sweating': 28,\n",
       " 'dehydration': 29,\n",
       " 'indigestion': 30,\n",
       " 'headache': 31,\n",
       " 'yellowish_skin': 32,\n",
       " 'dark_urine': 33,\n",
       " 'nausea': 34,\n",
       " 'loss_of_appetite': 35,\n",
       " 'pain_behind_the_eyes': 36,\n",
       " 'back_pain': 37,\n",
       " 'constipation': 38,\n",
       " 'abdominal_pain': 39,\n",
       " 'diarrhoea': 40,\n",
       " 'mild_fever': 41,\n",
       " 'yellow_urine': 42,\n",
       " 'yellowing_of_eyes': 43,\n",
       " 'acute_liver_failure': 44,\n",
       " 'fluid_overload': 45,\n",
       " 'swelling_of_stomach': 46,\n",
       " 'swelled_lymph_nodes': 47,\n",
       " 'malaise': 48,\n",
       " 'blurred_and_distorted_vision': 49,\n",
       " 'phlegm': 50,\n",
       " 'throat_irritation': 51,\n",
       " 'redness_of_eyes': 52,\n",
       " 'sinus_pressure': 53,\n",
       " 'runny_nose': 54,\n",
       " 'congestion': 55,\n",
       " 'chest_pain': 56,\n",
       " 'weakness_in_limbs': 57,\n",
       " 'fast_heart_rate': 58,\n",
       " 'pain_during_bowel_movements': 59,\n",
       " 'pain_in_anal_region': 60,\n",
       " 'bloody_stool': 61,\n",
       " 'irritation_in_anus': 62,\n",
       " 'neck_pain': 63,\n",
       " 'dizziness': 64,\n",
       " 'cramps': 65,\n",
       " 'bruising': 66,\n",
       " 'obesity': 67,\n",
       " 'swollen_legs': 68,\n",
       " 'swollen_blood_vessels': 69,\n",
       " 'puffy_face_and_eyes': 70,\n",
       " 'enlarged_thyroid': 71,\n",
       " 'brittle_nails': 72,\n",
       " 'swollen_extremeties': 73,\n",
       " 'excessive_hunger': 74,\n",
       " 'extra_marital_contacts': 75,\n",
       " 'drying_and_tingling_lips': 76,\n",
       " 'slurred_speech': 77,\n",
       " 'knee_pain': 78,\n",
       " 'hip_joint_pain': 79,\n",
       " 'muscle_weakness': 80,\n",
       " 'stiff_neck': 81,\n",
       " 'swelling_joints': 82,\n",
       " 'movement_stiffness': 83,\n",
       " 'spinning_movements': 84,\n",
       " 'loss_of_balance': 85,\n",
       " 'unsteadiness': 86,\n",
       " 'weakness_of_one_body_side': 87,\n",
       " 'loss_of_smell': 88,\n",
       " 'bladder_discomfort': 89,\n",
       " 'foul_smell_of urine': 90,\n",
       " 'continuous_feel_of_urine': 91,\n",
       " 'passage_of_gases': 92,\n",
       " 'internal_itching': 93,\n",
       " 'toxic_look_(typhos)': 94,\n",
       " 'depression': 95,\n",
       " 'irritability': 96,\n",
       " 'muscle_pain': 97,\n",
       " 'altered_sensorium': 98,\n",
       " 'red_spots_over_body': 99,\n",
       " 'belly_pain': 100,\n",
       " 'abnormal_menstruation': 101,\n",
       " 'dischromic _patches': 102,\n",
       " 'watering_from_eyes': 103,\n",
       " 'increased_appetite': 104,\n",
       " 'polyuria': 105,\n",
       " 'family_history': 106,\n",
       " 'mucoid_sputum': 107,\n",
       " 'rusty_sputum': 108,\n",
       " 'lack_of_concentration': 109,\n",
       " 'visual_disturbances': 110,\n",
       " 'receiving_blood_transfusion': 111,\n",
       " 'receiving_unsterile_injections': 112,\n",
       " 'coma': 113,\n",
       " 'stomach_bleeding': 114,\n",
       " 'distention_of_abdomen': 115,\n",
       " 'history_of_alcohol_consumption': 116,\n",
       " 'fluid_overload.1': 117,\n",
       " 'blood_in_sputum': 118,\n",
       " 'prominent_veins_on_calf': 119,\n",
       " 'palpitations': 120,\n",
       " 'painful_walking': 121,\n",
       " 'pus_filled_pimples': 122,\n",
       " 'blackheads': 123,\n",
       " 'scurring': 124,\n",
       " 'skin_peeling': 125,\n",
       " 'silver_like_dusting': 126,\n",
       " 'small_dents_in_nails': 127,\n",
       " 'inflammatory_nails': 128,\n",
       " 'blister': 129,\n",
       " 'red_sore_around_nose': 130,\n",
       " 'yellow_crust_ooze': 131}"
      ]
     },
     "execution_count": 144,
     "metadata": {},
     "output_type": "execute_result"
    }
   ],
   "source": [
    "def get_feature_mapping(X):\n",
    "    \"\"\"\n",
    "    Returns a dictionary where each symptom (column name)\n",
    "    is mapped to a unique integer starting from 0.\n",
    "    Example: {'itching': 0, 'skin_rash': 1, ...}\n",
    "    \"\"\"\n",
    "    feature_mapping = {feature: idx for idx, feature in enumerate(X.columns)}\n",
    "    return feature_mapping\n",
    "\n",
    "\n",
    "symptoms_dict = get_feature_mapping(X)\n",
    "symptoms_dict\n"
   ]
  },
  {
   "cell_type": "code",
   "execution_count": 145,
   "id": "d815bc6d",
   "metadata": {},
   "outputs": [],
   "source": [
    "#helper funtion\n",
    "def helper(dis):\n",
    "    desc = description[description['Disease'] == dis]['Description']\n",
    "    desc = \"\".join([w for w in desc])\n",
    "\n",
    "    pre = precautions[precautions['Disease']==dis][['Precaution_1','Precaution_2','Precaution_3','Precaution_4']] \n",
    "    pre = [col for col in pre.values]\n",
    "\n",
    "    med = medication[medication['Disease']==dis]['Medication']\n",
    "    med = [med for med in med.values]\n",
    "\n",
    "    diet = diets[diets['Disease']==dis]['Diet']\n",
    "    diet = [diet for diet in diet.values]\n",
    "\n",
    "    workout_info=workout[workout['disease']==dis]['workout']\n",
    "\n",
    "    return desc,pre,med,diet,workout_info\n",
    "\n",
    "\n",
    "# model prediction  fucntion \n",
    "\n",
    "\n",
    "def get_predicted_value(patient_symptoms):\n",
    "    #converting the input from user into a vector\n",
    "    input_vector =np.zeros(len(symptoms_dict))\n",
    "    for item in patient_symptoms:\n",
    "        input_vector[symptoms_dict[item]] = 1\n",
    "    \n",
    "    #using our model to predict values\n",
    "    return disease_list[svc.predict([input_vector])[0]]\n",
    "\n"
   ]
  },
  {
   "cell_type": "code",
   "execution_count": 152,
   "id": "cbb7029d",
   "metadata": {},
   "outputs": [
    {
     "name": "stdout",
     "output_type": "stream",
     "text": [
      "=============Predicted Disease=============\n",
      "Fungal infection\n",
      "===============Description=================\n",
      "Fungal infection is a common skin condition caused by fungi.\n",
      "===============Precatuion==================\n",
      "1 : bath twice\n",
      "2 : use detol or neem in bathing water\n",
      "3 : keep infected area dry\n",
      "4 : use clean cloths\n",
      "==============Medications===============\n",
      "1 : Antifungal Cream\n",
      "2 : Fluconazole\n",
      "3 : Terbinafine\n",
      "4 : Clotrimazole\n",
      "5 : Ketoconazole\n",
      "=================Workout====================\n",
      "1 : Avoid sugary foods\n",
      "2 : Consume probiotics\n",
      "3 : Increase intake of garlic\n",
      "4 : Include yogurt in diet\n",
      "5 : Limit processed foods\n",
      "6 : Stay hydrated\n",
      "7 : Consume green tea\n",
      "8 : Eat foods rich in zinc\n",
      "9 : Include turmeric in diet\n",
      "10 : Eat fruits and vegetables\n",
      "==============Diet===============\n",
      "1 : Antifungal Diet\n",
      "2 : Probiotics\n",
      "3 : Garlic\n",
      "4 : Coconut oil\n",
      "5 : Turmeric\n"
     ]
    },
    {
     "name": "stderr",
     "output_type": "stream",
     "text": [
      "c:\\Users\\Vivobook\\OneDrive\\Desktop\\Medical Recommendation Systmes\\.venv\\Lib\\site-packages\\sklearn\\utils\\validation.py:2749: UserWarning: X does not have valid feature names, but SVC was fitted with feature names\n",
      "  warnings.warn(\n"
     ]
    }
   ],
   "source": [
    "# --- test 1 ---\n",
    "import ast\n",
    "symptoms = input(\"Enter your symptoms (comma separated): \")\n",
    "\n",
    "# Clean & split (handles spaces, quotes, brackets)\n",
    "user_symptoms = [\n",
    "    s.strip().strip(\"[]'\\\"\").lower().replace(\" \", \"_\")\n",
    "    for s in symptoms.split(',')\n",
    "    if s.strip()\n",
    "]\n",
    "\n",
    "#prediction\n",
    "pred_disease=get_predicted_value(user_symptoms)\n",
    "desc,pre,med,diet,workout_info=helper(pred_disease)\n",
    "\n",
    "print(\"=============Predicted Disease=============\")\n",
    "print(pred_disease)\n",
    "print(\"===============Description=================\")\n",
    "print(desc)\n",
    "print(\"===============Precatuion==================\")\n",
    "i=1\n",
    "for p_i in pre[0]:\n",
    "    print(i,\":\",p_i)\n",
    "    i+=1\n",
    "\n",
    "print(\"==============Medications===============\")\n",
    "i = 1\n",
    "for m_i in med:\n",
    "    # Convert string like \"['A', 'B']\" to a real list\n",
    "    if isinstance(m_i, str) and m_i.startswith('[') and m_i.endswith(']'):\n",
    "        m_i = ast.literal_eval(m_i)\n",
    "    # If still a list, iterate inside\n",
    "    if isinstance(m_i, list):\n",
    "        for sub_m in m_i:\n",
    "            print(f\"{i} : {sub_m}\")\n",
    "            i += 1\n",
    "    else:\n",
    "        print(f\"{i} : {m_i}\")\n",
    "        i += 1\n",
    "\n",
    "print(\"=================Workout====================\")\n",
    "i=1\n",
    "for w_i in workout_info:\n",
    "    print(i,\":\",w_i)\n",
    "    i+=1\n",
    "\n",
    "print(\"==============Diet===============\")\n",
    "i = 1\n",
    "for d_i in diet:\n",
    "    if isinstance(d_i, str) and d_i.startswith('[') and d_i.endswith(']'):\n",
    "        d_i = ast.literal_eval(d_i)\n",
    "    if isinstance(d_i, list):\n",
    "        for sub_d in d_i:\n",
    "            print(f\"{i} : {sub_d}\")\n",
    "            i += 1\n",
    "    else:\n",
    "        print(f\"{i} : {d_i}\")\n",
    "        i += 1\n",
    "\n",
    "\n",
    "\n",
    "\n"
   ]
  },
  {
   "cell_type": "code",
   "execution_count": null,
   "id": "63ba9a9e",
   "metadata": {},
   "outputs": [],
   "source": []
  }
 ],
 "metadata": {
  "kernelspec": {
   "display_name": ".venv",
   "language": "python",
   "name": "python3"
  },
  "language_info": {
   "codemirror_mode": {
    "name": "ipython",
    "version": 3
   },
   "file_extension": ".py",
   "mimetype": "text/x-python",
   "name": "python",
   "nbconvert_exporter": "python",
   "pygments_lexer": "ipython3",
   "version": "3.13.5"
  }
 },
 "nbformat": 4,
 "nbformat_minor": 5
}
